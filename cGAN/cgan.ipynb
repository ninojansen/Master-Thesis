{
 "metadata": {
  "language_info": {
   "codemirror_mode": {
    "name": "ipython",
    "version": 3
   },
   "file_extension": ".py",
   "mimetype": "text/x-python",
   "name": "python",
   "nbconvert_exporter": "python",
   "pygments_lexer": "ipython3",
   "version": "3.8.5-final"
  },
  "orig_nbformat": 2,
  "kernelspec": {
   "name": "python38564bit6c6b678f4aa34b268a4fb983e833014a",
   "display_name": "Python 3.8.5 64-bit"
  }
 },
 "nbformat": 4,
 "nbformat_minor": 2,
 "cells": [
  {
   "cell_type": "code",
   "execution_count": 1,
   "metadata": {},
   "outputs": [],
   "source": [
    "import tensorflow as tf\n",
    "import glob\n",
    "import imageio\n",
    "import matplotlib.pyplot as plt\n",
    "import numpy as np\n",
    "import os\n",
    "import PIL\n",
    "from tensorflow.keras import layers\n",
    "import time\n",
    "from IPython import display"
   ]
  },
  {
   "cell_type": "code",
   "execution_count": 2,
   "metadata": {},
   "outputs": [],
   "source": [
    "\n",
    "BUFFER_SIZE = 60000\n",
    "BATCH_SIZE = 256\n",
    "\n",
    "(train_images, train_labels), (_, _) = tf.keras.datasets.fashion_mnist.load_data()\n",
    "train_images = train_images.reshape(train_images.shape[0], 28, 28, 1).astype('float32')\n",
    "train_images = (train_images - 127.5) / 127.5 # Normalize the images to [-1, 1]\n",
    "\n",
    "train_dataset = tf.data.Dataset.from_tensor_slices((train_images, train_labels)).shuffle(BUFFER_SIZE).batch(BATCH_SIZE)"
   ]
  },
  {
   "cell_type": "code",
   "execution_count": 3,
   "metadata": {},
   "outputs": [],
   "source": [
    "def make_generator_model(latent_dim, n_classes=10):\n",
    "    input_label = layers.Input(shape=(1,))\n",
    "    label_emb = layers.Embedding(n_classes, 50)(input_label)\n",
    "    label_emb = layers.Dense(7*7, use_bias=False)(label_emb)\n",
    "    label_emb = layers.Reshape((7, 7, 1))(label_emb)\n",
    "    \n",
    "    input_noise = layers.Input(shape=(latent_dim,))\n",
    "    noise_emb = layers.Dense(7*7*256, use_bias=False)(input_noise)\n",
    "    noise_emb = layers.BatchNormalization()(noise_emb)\n",
    "    noise_emb = layers.LeakyReLU()(noise_emb)\n",
    "\n",
    "    input_merged = layers.Concatenate()([label_emb, noise_emb])\n",
    "\n",
    "    gen = layers.Conv2DTranspose(128, (5, 5), strides=(1, 1), padding='same', use_bias=False)(input_merged)\n",
    "    gen = layers.BatchNormalization()(gen)\n",
    "    gen = layers.LeakyReLU()(gen)\n",
    "\n",
    "\n",
    "    gen = layers.Conv2DTranspose(64, (5, 5), strides=(2, 2), padding='same', use_bias=False)(gen)\n",
    "    gen = layers.BatchNormalization()(gen)\n",
    "    gen = layers.LeakyReLU()(gen)\n",
    "\n",
    "    out = layers.Conv2DTranspose(1, (5, 5), strides=(2, 2), padding='same', use_bias=False, activation='tanh')(gen)\n",
    "\n",
    "    model = tf.keras.Model([input_noise, input_label], out)\n",
    "    return model"
   ]
  },
  {
   "cell_type": "code",
   "execution_count": 2,
   "metadata": {},
   "outputs": [],
   "source": [
    "def make_discriminator(n_classes=10):\n",
    "    input_label = layers.Input(shape=(1,))\n",
    "    label_emb = layers.Embedding(n_classes, 50)(input_label)\n",
    "    label_emb = layers.Dense(28*28, use_bias=False)(label_emb)\n",
    "    label_emb = layers.Reshape((28, 28, 1))(label_emb)\n",
    "    \n",
    "    input_img = layers.Input(shape=(28,28, 1))\n",
    "    img_emb = layers.Dense(7*7*256, use_bias=False)(input_img)\n",
    "    img_emb = layers.BatchNormalization()(img_emb)\n",
    "    img_emb = layers.LeakyReLU()(img_emb)\n",
    "\n",
    "    input_merged = layers.Concatenate()([label_emb, img_emb])\n",
    "\n",
    "    disc = layers.Conv2D(64, (5,5), strides=(2,2), padding='same')(input_merged)\n",
    "    disc = layers.LeakyReLU()(disc)\n",
    "    disc = layers.Dropout(0.3)(disc)\n",
    "\n",
    "    disc = layers.Conv2D(128, (5,5), strides=(2,2), padding='same')(disc)\n",
    "    disc = layers.LeakyReLU()(disc)\n",
    "    disc = layers.Dropout(0.3)(disc)\n",
    "\n",
    "    disc = layers.Flatten()(disc)\n",
    "\n",
    "    out = layers.Dense(1, activation='sigmoid')(disc)\n",
    "\n",
    "    model = tf.keras.Model([input_noise, input_label], out)\n",
    "    return model"
   ]
  },
  {
   "cell_type": "code",
   "execution_count": null,
   "metadata": {},
   "outputs": [],
   "source": []
  }
 ]
}